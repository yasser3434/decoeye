{
 "cells": [
  {
   "cell_type": "code",
   "execution_count": 1,
   "id": "0c762cff",
   "metadata": {},
   "outputs": [
    {
     "name": "stdout",
     "output_type": "stream",
     "text": [
      "Creating new Ultralytics Settings v0.0.6 file  \n",
      "View Ultralytics Settings with 'yolo settings' or at 'C:\\Users\\yasser.sakhraoui\\AppData\\Roaming\\Ultralytics\\settings.json'\n",
      "Update Settings with 'yolo settings key=value', i.e. 'yolo settings runs_dir=path/to/dir'. For help see https://docs.ultralytics.com/quickstart/#ultralytics-settings.\n"
     ]
    }
   ],
   "source": [
    "from ultralytics import YOLO\n",
    "import cv2\n",
    "import os"
   ]
  },
  {
   "cell_type": "code",
   "execution_count": 2,
   "id": "539e6dab",
   "metadata": {},
   "outputs": [
    {
     "name": "stdout",
     "output_type": "stream",
     "text": [
      "Downloading https://github.com/ultralytics/assets/releases/download/v8.3.0/yolov8n.pt to 'yolov8n.pt'...\n"
     ]
    },
    {
     "name": "stderr",
     "output_type": "stream",
     "text": [
      "100%|██████████| 6.25M/6.25M [00:00<00:00, 32.7MB/s]\n"
     ]
    }
   ],
   "source": [
    "# Load the YOLOv8 model\n",
    "model = YOLO(\"yolov8n.pt\")"
   ]
  },
  {
   "cell_type": "code",
   "execution_count": 4,
   "id": "b9dcd989",
   "metadata": {},
   "outputs": [],
   "source": [
    "image_path = \"generated_images/vide/2025-05-29/output_0.125_strength_12-59-43.jpg\"\n",
    "image = cv2.imread(image_path)"
   ]
  },
  {
   "cell_type": "code",
   "execution_count": 5,
   "id": "9d30f87e",
   "metadata": {},
   "outputs": [
    {
     "data": {
      "text/plain": [
       "array([[[ 95, 108, 116],\n",
       "        [ 93, 106, 114],\n",
       "        [ 95, 106, 114],\n",
       "        ...,\n",
       "        [108, 129, 137],\n",
       "        [116, 134, 145],\n",
       "        [121, 139, 150]],\n",
       "\n",
       "       [[ 94, 107, 115],\n",
       "        [ 94, 107, 115],\n",
       "        [ 96, 107, 115],\n",
       "        ...,\n",
       "        [113, 134, 142],\n",
       "        [122, 140, 151],\n",
       "        [125, 143, 154]],\n",
       "\n",
       "       [[ 92, 108, 115],\n",
       "        [ 92, 108, 115],\n",
       "        [ 94, 107, 115],\n",
       "        ...,\n",
       "        [122, 142, 153],\n",
       "        [124, 142, 153],\n",
       "        [123, 141, 152]],\n",
       "\n",
       "       ...,\n",
       "\n",
       "       [[ 20,  33,  59],\n",
       "        [ 18,  33,  59],\n",
       "        [ 18,  33,  59],\n",
       "        ...,\n",
       "        [ 45,  47,  48],\n",
       "        [ 42,  46,  47],\n",
       "        [ 41,  45,  46]],\n",
       "\n",
       "       [[ 20,  32,  56],\n",
       "        [ 20,  34,  57],\n",
       "        [ 20,  35,  61],\n",
       "        ...,\n",
       "        [ 45,  46,  50],\n",
       "        [ 44,  46,  47],\n",
       "        [ 44,  46,  47]],\n",
       "\n",
       "       [[ 24,  36,  60],\n",
       "        [ 21,  35,  58],\n",
       "        [ 21,  34,  60],\n",
       "        ...,\n",
       "        [ 44,  45,  49],\n",
       "        [ 44,  46,  47],\n",
       "        [ 43,  45,  46]]], shape=(880, 1168, 3), dtype=uint8)"
      ]
     },
     "execution_count": 5,
     "metadata": {},
     "output_type": "execute_result"
    }
   ],
   "source": [
    "image"
   ]
  },
  {
   "cell_type": "code",
   "execution_count": 6,
   "id": "e5d2582d",
   "metadata": {},
   "outputs": [
    {
     "name": "stdout",
     "output_type": "stream",
     "text": [
      "\n",
      "image 1/1 c:\\Users\\yasser.sakhraoui\\Desktop\\decoeye\\generated_images\\vide\\2025-05-29\\output_0.125_strength_12-59-43.jpg: 512x640 1 bowl, 6 chairs, 3 couchs, 2 potted plants, 1 dining table, 167.5ms\n",
      "Speed: 4.4ms preprocess, 167.5ms inference, 2.5ms postprocess per image at shape (1, 3, 512, 640)\n"
     ]
    }
   ],
   "source": [
    "# Run detection\n",
    "results = model(image_path)\n",
    "boxes = results[0].boxes\n",
    "names = model.names  # COCO class names"
   ]
  },
  {
   "cell_type": "code",
   "execution_count": 7,
   "id": "3d2e41c9",
   "metadata": {},
   "outputs": [
    {
     "data": {
      "text/plain": [
       "[ultralytics.engine.results.Results object with attributes:\n",
       " \n",
       " boxes: ultralytics.engine.results.Boxes object\n",
       " keypoints: None\n",
       " masks: None\n",
       " names: {0: 'person', 1: 'bicycle', 2: 'car', 3: 'motorcycle', 4: 'airplane', 5: 'bus', 6: 'train', 7: 'truck', 8: 'boat', 9: 'traffic light', 10: 'fire hydrant', 11: 'stop sign', 12: 'parking meter', 13: 'bench', 14: 'bird', 15: 'cat', 16: 'dog', 17: 'horse', 18: 'sheep', 19: 'cow', 20: 'elephant', 21: 'bear', 22: 'zebra', 23: 'giraffe', 24: 'backpack', 25: 'umbrella', 26: 'handbag', 27: 'tie', 28: 'suitcase', 29: 'frisbee', 30: 'skis', 31: 'snowboard', 32: 'sports ball', 33: 'kite', 34: 'baseball bat', 35: 'baseball glove', 36: 'skateboard', 37: 'surfboard', 38: 'tennis racket', 39: 'bottle', 40: 'wine glass', 41: 'cup', 42: 'fork', 43: 'knife', 44: 'spoon', 45: 'bowl', 46: 'banana', 47: 'apple', 48: 'sandwich', 49: 'orange', 50: 'broccoli', 51: 'carrot', 52: 'hot dog', 53: 'pizza', 54: 'donut', 55: 'cake', 56: 'chair', 57: 'couch', 58: 'potted plant', 59: 'bed', 60: 'dining table', 61: 'toilet', 62: 'tv', 63: 'laptop', 64: 'mouse', 65: 'remote', 66: 'keyboard', 67: 'cell phone', 68: 'microwave', 69: 'oven', 70: 'toaster', 71: 'sink', 72: 'refrigerator', 73: 'book', 74: 'clock', 75: 'vase', 76: 'scissors', 77: 'teddy bear', 78: 'hair drier', 79: 'toothbrush'}\n",
       " obb: None\n",
       " orig_img: array([[[ 95, 108, 116],\n",
       "         [ 93, 106, 114],\n",
       "         [ 95, 106, 114],\n",
       "         ...,\n",
       "         [108, 129, 137],\n",
       "         [116, 134, 145],\n",
       "         [121, 139, 150]],\n",
       " \n",
       "        [[ 94, 107, 115],\n",
       "         [ 94, 107, 115],\n",
       "         [ 96, 107, 115],\n",
       "         ...,\n",
       "         [113, 134, 142],\n",
       "         [122, 140, 151],\n",
       "         [125, 143, 154]],\n",
       " \n",
       "        [[ 92, 108, 115],\n",
       "         [ 92, 108, 115],\n",
       "         [ 94, 107, 115],\n",
       "         ...,\n",
       "         [122, 142, 153],\n",
       "         [124, 142, 153],\n",
       "         [123, 141, 152]],\n",
       " \n",
       "        ...,\n",
       " \n",
       "        [[ 20,  33,  59],\n",
       "         [ 18,  33,  59],\n",
       "         [ 18,  33,  59],\n",
       "         ...,\n",
       "         [ 45,  47,  48],\n",
       "         [ 42,  46,  47],\n",
       "         [ 41,  45,  46]],\n",
       " \n",
       "        [[ 20,  32,  56],\n",
       "         [ 20,  34,  57],\n",
       "         [ 20,  35,  61],\n",
       "         ...,\n",
       "         [ 45,  46,  50],\n",
       "         [ 44,  46,  47],\n",
       "         [ 44,  46,  47]],\n",
       " \n",
       "        [[ 24,  36,  60],\n",
       "         [ 21,  35,  58],\n",
       "         [ 21,  34,  60],\n",
       "         ...,\n",
       "         [ 44,  45,  49],\n",
       "         [ 44,  46,  47],\n",
       "         [ 43,  45,  46]]], shape=(880, 1168, 3), dtype=uint8)\n",
       " orig_shape: (880, 1168)\n",
       " path: 'c:\\\\Users\\\\yasser.sakhraoui\\\\Desktop\\\\decoeye\\\\generated_images\\\\vide\\\\2025-05-29\\\\output_0.125_strength_12-59-43.jpg'\n",
       " probs: None\n",
       " save_dir: 'runs\\\\detect\\\\predict'\n",
       " speed: {'preprocess': 4.4239999988349155, 'inference': 167.45500000251923, 'postprocess': 2.4637000024085864}]"
      ]
     },
     "execution_count": 7,
     "metadata": {},
     "output_type": "execute_result"
    }
   ],
   "source": [
    "results"
   ]
  },
  {
   "cell_type": "code",
   "execution_count": 12,
   "id": "d3a91bff",
   "metadata": {},
   "outputs": [
    {
     "data": {
      "text/plain": [
       "{0: 'person',\n",
       " 1: 'bicycle',\n",
       " 2: 'car',\n",
       " 3: 'motorcycle',\n",
       " 4: 'airplane',\n",
       " 5: 'bus',\n",
       " 6: 'train',\n",
       " 7: 'truck',\n",
       " 8: 'boat',\n",
       " 9: 'traffic light',\n",
       " 10: 'fire hydrant',\n",
       " 11: 'stop sign',\n",
       " 12: 'parking meter',\n",
       " 13: 'bench',\n",
       " 14: 'bird',\n",
       " 15: 'cat',\n",
       " 16: 'dog',\n",
       " 17: 'horse',\n",
       " 18: 'sheep',\n",
       " 19: 'cow',\n",
       " 20: 'elephant',\n",
       " 21: 'bear',\n",
       " 22: 'zebra',\n",
       " 23: 'giraffe',\n",
       " 24: 'backpack',\n",
       " 25: 'umbrella',\n",
       " 26: 'handbag',\n",
       " 27: 'tie',\n",
       " 28: 'suitcase',\n",
       " 29: 'frisbee',\n",
       " 30: 'skis',\n",
       " 31: 'snowboard',\n",
       " 32: 'sports ball',\n",
       " 33: 'kite',\n",
       " 34: 'baseball bat',\n",
       " 35: 'baseball glove',\n",
       " 36: 'skateboard',\n",
       " 37: 'surfboard',\n",
       " 38: 'tennis racket',\n",
       " 39: 'bottle',\n",
       " 40: 'wine glass',\n",
       " 41: 'cup',\n",
       " 42: 'fork',\n",
       " 43: 'knife',\n",
       " 44: 'spoon',\n",
       " 45: 'bowl',\n",
       " 46: 'banana',\n",
       " 47: 'apple',\n",
       " 48: 'sandwich',\n",
       " 49: 'orange',\n",
       " 50: 'broccoli',\n",
       " 51: 'carrot',\n",
       " 52: 'hot dog',\n",
       " 53: 'pizza',\n",
       " 54: 'donut',\n",
       " 55: 'cake',\n",
       " 56: 'chair',\n",
       " 57: 'couch',\n",
       " 58: 'potted plant',\n",
       " 59: 'bed',\n",
       " 60: 'dining table',\n",
       " 61: 'toilet',\n",
       " 62: 'tv',\n",
       " 63: 'laptop',\n",
       " 64: 'mouse',\n",
       " 65: 'remote',\n",
       " 66: 'keyboard',\n",
       " 67: 'cell phone',\n",
       " 68: 'microwave',\n",
       " 69: 'oven',\n",
       " 70: 'toaster',\n",
       " 71: 'sink',\n",
       " 72: 'refrigerator',\n",
       " 73: 'book',\n",
       " 74: 'clock',\n",
       " 75: 'vase',\n",
       " 76: 'scissors',\n",
       " 77: 'teddy bear',\n",
       " 78: 'hair drier',\n",
       " 79: 'toothbrush'}"
      ]
     },
     "execution_count": 12,
     "metadata": {},
     "output_type": "execute_result"
    }
   ],
   "source": [
    "model.names"
   ]
  },
  {
   "cell_type": "code",
   "execution_count": 13,
   "id": "dd8f34bf",
   "metadata": {},
   "outputs": [
    {
     "data": {
      "text/plain": [
       "ultralytics.engine.results.Boxes object with attributes:\n",
       "\n",
       "cls: tensor([58., 56., 56., 58., 56., 57., 45., 56., 56., 57., 56., 57., 60.])\n",
       "conf: tensor([0.8700, 0.8179, 0.7866, 0.6898, 0.6298, 0.5158, 0.4798, 0.4732, 0.3259, 0.3219, 0.3134, 0.2751, 0.2557])\n",
       "data: tensor([[8.7742e+02, 3.9412e+02, 9.7726e+02, 6.0466e+02, 8.7000e-01, 5.8000e+01],\n",
       "        [5.6777e+02, 6.6909e+02, 7.2498e+02, 8.3724e+02, 8.1788e-01, 5.6000e+01],\n",
       "        [6.2194e+02, 5.2897e+02, 7.1804e+02, 6.1379e+02, 7.8660e-01, 5.6000e+01],\n",
       "        [3.7027e+02, 3.1382e+02, 4.6113e+02, 4.7250e+02, 6.8981e-01, 5.8000e+01],\n",
       "        [9.0303e+02, 6.7024e+02, 1.0225e+03, 8.7469e+02, 6.2976e-01, 5.6000e+01],\n",
       "        [9.6530e-01, 4.6939e+02, 4.2160e+02, 7.6393e+02, 5.1578e-01, 5.7000e+01],\n",
       "        [5.3326e+02, 5.8155e+02, 6.1233e+02, 6.2730e+02, 4.7983e-01, 4.5000e+01],\n",
       "        [4.7365e+02, 3.9396e+02, 5.7078e+02, 5.0373e+02, 4.7322e-01, 5.6000e+01],\n",
       "        [6.5752e+02, 4.0055e+02, 7.1250e+02, 5.0606e+02, 3.2590e-01, 5.6000e+01],\n",
       "        [3.1697e+02, 4.5560e+02, 7.1484e+02, 5.9969e+02, 3.2195e-01, 5.7000e+01],\n",
       "        [6.5817e+02, 4.0824e+02, 7.6577e+02, 5.1813e+02, 3.1345e-01, 5.6000e+01],\n",
       "        [0.0000e+00, 4.6634e+02, 7.3947e+02, 7.8444e+02, 2.7507e-01, 5.7000e+01],\n",
       "        [6.8905e-01, 4.6197e+02, 9.2431e+02, 8.7426e+02, 2.5568e-01, 6.0000e+01]])\n",
       "id: None\n",
       "is_track: False\n",
       "orig_shape: (880, 1168)\n",
       "shape: torch.Size([13, 6])\n",
       "xywh: tensor([[927.3372, 499.3912,  99.8376, 210.5476],\n",
       "        [646.3706, 753.1680, 157.2089, 168.1459],\n",
       "        [669.9886, 571.3779,  96.1033,  84.8175],\n",
       "        [415.7022, 393.1572,  90.8607, 158.6790],\n",
       "        [962.7751, 772.4660, 119.4865, 204.4540],\n",
       "        [211.2834, 616.6597, 420.6361, 294.5392],\n",
       "        [572.7965, 604.4257,  79.0638,  45.7495],\n",
       "        [522.2134, 448.8466,  97.1307, 109.7739],\n",
       "        [685.0126, 453.3039,  54.9756, 105.5050],\n",
       "        [515.9050, 527.6418, 397.8739, 144.0924],\n",
       "        [711.9666, 463.1847, 107.6014, 109.8968],\n",
       "        [369.7348, 625.3869, 739.4695, 318.0967],\n",
       "        [462.4971, 668.1173, 923.6162, 412.2898]])\n",
       "xywhn: tensor([[0.7940, 0.5675, 0.0855, 0.2393],\n",
       "        [0.5534, 0.8559, 0.1346, 0.1911],\n",
       "        [0.5736, 0.6493, 0.0823, 0.0964],\n",
       "        [0.3559, 0.4468, 0.0778, 0.1803],\n",
       "        [0.8243, 0.8778, 0.1023, 0.2323],\n",
       "        [0.1809, 0.7007, 0.3601, 0.3347],\n",
       "        [0.4904, 0.6868, 0.0677, 0.0520],\n",
       "        [0.4471, 0.5101, 0.0832, 0.1247],\n",
       "        [0.5865, 0.5151, 0.0471, 0.1199],\n",
       "        [0.4417, 0.5996, 0.3406, 0.1637],\n",
       "        [0.6096, 0.5263, 0.0921, 0.1249],\n",
       "        [0.3166, 0.7107, 0.6331, 0.3615],\n",
       "        [0.3960, 0.7592, 0.7908, 0.4685]])\n",
       "xyxy: tensor([[8.7742e+02, 3.9412e+02, 9.7726e+02, 6.0466e+02],\n",
       "        [5.6777e+02, 6.6909e+02, 7.2498e+02, 8.3724e+02],\n",
       "        [6.2194e+02, 5.2897e+02, 7.1804e+02, 6.1379e+02],\n",
       "        [3.7027e+02, 3.1382e+02, 4.6113e+02, 4.7250e+02],\n",
       "        [9.0303e+02, 6.7024e+02, 1.0225e+03, 8.7469e+02],\n",
       "        [9.6530e-01, 4.6939e+02, 4.2160e+02, 7.6393e+02],\n",
       "        [5.3326e+02, 5.8155e+02, 6.1233e+02, 6.2730e+02],\n",
       "        [4.7365e+02, 3.9396e+02, 5.7078e+02, 5.0373e+02],\n",
       "        [6.5752e+02, 4.0055e+02, 7.1250e+02, 5.0606e+02],\n",
       "        [3.1697e+02, 4.5560e+02, 7.1484e+02, 5.9969e+02],\n",
       "        [6.5817e+02, 4.0824e+02, 7.6577e+02, 5.1813e+02],\n",
       "        [0.0000e+00, 4.6634e+02, 7.3947e+02, 7.8444e+02],\n",
       "        [6.8905e-01, 4.6197e+02, 9.2431e+02, 8.7426e+02]])\n",
       "xyxyn: tensor([[7.5121e-01, 4.4786e-01, 8.3669e-01, 6.8712e-01],\n",
       "        [4.8610e-01, 7.6034e-01, 6.2070e-01, 9.5141e-01],\n",
       "        [5.3248e-01, 6.0110e-01, 6.1476e-01, 6.9748e-01],\n",
       "        [3.1701e-01, 3.5661e-01, 3.9481e-01, 5.3693e-01],\n",
       "        [7.7314e-01, 7.6164e-01, 8.7544e-01, 9.9397e-01],\n",
       "        [8.2645e-04, 5.3340e-01, 3.6096e-01, 8.6810e-01],\n",
       "        [4.5656e-01, 6.6085e-01, 5.2425e-01, 7.1284e-01],\n",
       "        [4.0552e-01, 4.4768e-01, 4.8868e-01, 5.7242e-01],\n",
       "        [5.6295e-01, 4.5517e-01, 6.1002e-01, 5.7506e-01],\n",
       "        [2.7138e-01, 5.1772e-01, 6.1202e-01, 6.8146e-01],\n",
       "        [5.6350e-01, 4.6390e-01, 6.5562e-01, 5.8879e-01],\n",
       "        [0.0000e+00, 5.2993e-01, 6.3311e-01, 8.9140e-01],\n",
       "        [5.8994e-04, 5.2497e-01, 7.9136e-01, 9.9348e-01]])"
      ]
     },
     "execution_count": 13,
     "metadata": {},
     "output_type": "execute_result"
    }
   ],
   "source": [
    "boxes"
   ]
  },
  {
   "cell_type": "code",
   "execution_count": null,
   "id": "a66d2c32",
   "metadata": {},
   "outputs": [],
   "source": []
  },
  {
   "cell_type": "code",
   "execution_count": 14,
   "id": "875067ad",
   "metadata": {},
   "outputs": [
    {
     "name": "stdout",
     "output_type": "stream",
     "text": [
      "Saved cropped_objects/0_potted plant_87.jpg (class: potted plant, conf: 0.87)\n",
      "Saved cropped_objects/1_chair_81.jpg (class: chair, conf: 0.82)\n",
      "Saved cropped_objects/2_chair_78.jpg (class: chair, conf: 0.79)\n",
      "Saved cropped_objects/3_potted plant_68.jpg (class: potted plant, conf: 0.69)\n",
      "Saved cropped_objects/4_chair_62.jpg (class: chair, conf: 0.63)\n",
      "Saved cropped_objects/5_couch_51.jpg (class: couch, conf: 0.52)\n",
      "Saved cropped_objects/6_bowl_47.jpg (class: bowl, conf: 0.48)\n",
      "Saved cropped_objects/7_chair_47.jpg (class: chair, conf: 0.47)\n",
      "Saved cropped_objects/8_chair_32.jpg (class: chair, conf: 0.33)\n",
      "Saved cropped_objects/9_couch_32.jpg (class: couch, conf: 0.32)\n",
      "Saved cropped_objects/10_chair_31.jpg (class: chair, conf: 0.31)\n",
      "Saved cropped_objects/11_couch_27.jpg (class: couch, conf: 0.28)\n",
      "Saved cropped_objects/12_dining table_25.jpg (class: dining table, conf: 0.26)\n"
     ]
    }
   ],
   "source": [
    "# Create output folder\n",
    "os.makedirs(\"cropped_objects\", exist_ok=True)\n",
    "\n",
    "# Loop over detected boxes and crop objects\n",
    "for i, box in enumerate(boxes):\n",
    "    cls_id = int(box.cls[0])\n",
    "    class_name = names[cls_id]\n",
    "    conf = float(box.conf[0])\n",
    "    x1, y1, x2, y2 = map(int, box.xyxy[0])  # Bounding box coordinates\n",
    "\n",
    "    # Crop the object\n",
    "    cropped = image[y1:y2, x1:x2]\n",
    "\n",
    "    # Save the cropped image\n",
    "    filename = f\"cropped_objects/{i}_{class_name}_{int(conf*100)}.jpg\"\n",
    "    cv2.imwrite(filename, cropped)\n",
    "\n",
    "    print(f\"Saved {filename} (class: {class_name}, conf: {conf:.2f})\")\n"
   ]
  }
 ],
 "metadata": {
  "kernelspec": {
   "display_name": ".venv",
   "language": "python",
   "name": "python3"
  },
  "language_info": {
   "codemirror_mode": {
    "name": "ipython",
    "version": 3
   },
   "file_extension": ".py",
   "mimetype": "text/x-python",
   "name": "python",
   "nbconvert_exporter": "python",
   "pygments_lexer": "ipython3",
   "version": "3.11.9"
  }
 },
 "nbformat": 4,
 "nbformat_minor": 5
}
